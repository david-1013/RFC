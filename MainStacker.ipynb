{
 "cells": [
  {
   "cell_type": "code",
   "execution_count": 1,
   "metadata": {},
   "outputs": [],
   "source": [
    "TEST = True"
   ]
  },
  {
   "cell_type": "code",
   "execution_count": null,
   "metadata": {},
   "outputs": [],
   "source": []
  },
  {
   "cell_type": "code",
   "execution_count": 2,
   "metadata": {},
   "outputs": [
    {
     "name": "stdout",
     "output_type": "stream",
     "text": [
      "Requirement already satisfied: scikit-learn in /home/ec2-user/anaconda3/lib/python3.8/site-packages (0.24.2)\n",
      "Requirement already satisfied: scipy>=0.19.1 in /home/ec2-user/anaconda3/lib/python3.8/site-packages (from scikit-learn) (1.5.0)\n",
      "Requirement already satisfied: numpy>=1.13.3 in /home/ec2-user/anaconda3/lib/python3.8/site-packages (from scikit-learn) (1.19.5)\n",
      "Requirement already satisfied: joblib>=0.11 in /home/ec2-user/anaconda3/lib/python3.8/site-packages (from scikit-learn) (0.16.0)\n",
      "Requirement already satisfied: threadpoolctl>=2.0.0 in /home/ec2-user/anaconda3/lib/python3.8/site-packages (from scikit-learn) (2.1.0)\n",
      "Note: you may need to restart the kernel to use updated packages.\n"
     ]
    }
   ],
   "source": [
    "pip install -U scikit-learn"
   ]
  },
  {
   "cell_type": "code",
   "execution_count": 3,
   "metadata": {},
   "outputs": [],
   "source": [
    "import pandas as pd\n",
    "import numpy as np\n",
    "import os\n",
    "import time\n",
    "import random\n",
    "import pickle"
   ]
  },
  {
   "cell_type": "code",
   "execution_count": 4,
   "metadata": {},
   "outputs": [],
   "source": [
    "import datetime as datetime"
   ]
  },
  {
   "cell_type": "code",
   "execution_count": 5,
   "metadata": {},
   "outputs": [],
   "source": [
    "from IPython.display import display\n",
    "from collections import Counter"
   ]
  },
  {
   "cell_type": "code",
   "execution_count": 6,
   "metadata": {},
   "outputs": [],
   "source": [
    "import matplotlib.pyplot as plt\n",
    "plt.rcParams[\"figure.figsize\"] = (10, 8)"
   ]
  },
  {
   "cell_type": "code",
   "execution_count": 7,
   "metadata": {},
   "outputs": [],
   "source": [
    "pd.options.display.max_columns = 500 "
   ]
  },
  {
   "cell_type": "code",
   "execution_count": null,
   "metadata": {},
   "outputs": [],
   "source": []
  },
  {
   "cell_type": "code",
   "execution_count": null,
   "metadata": {},
   "outputs": [],
   "source": []
  },
  {
   "cell_type": "code",
   "execution_count": 8,
   "metadata": {},
   "outputs": [
    {
     "data": {
      "text/html": [
       "<div>\n",
       "<style scoped>\n",
       "    .dataframe tbody tr th:only-of-type {\n",
       "        vertical-align: middle;\n",
       "    }\n",
       "\n",
       "    .dataframe tbody tr th {\n",
       "        vertical-align: top;\n",
       "    }\n",
       "\n",
       "    .dataframe thead th {\n",
       "        text-align: right;\n",
       "    }\n",
       "</style>\n",
       "<table border=\"1\" class=\"dataframe\">\n",
       "  <thead>\n",
       "    <tr style=\"text-align: right;\">\n",
       "      <th></th>\n",
       "      <th>Gender</th>\n",
       "      <th>Race</th>\n",
       "      <th>Age_at_Release</th>\n",
       "      <th>Residence_PUMA</th>\n",
       "      <th>Gang_Affiliated</th>\n",
       "      <th>Supervision_Risk_Score_First</th>\n",
       "      <th>Supervision_Level_First</th>\n",
       "      <th>Education_Level</th>\n",
       "      <th>Dependents</th>\n",
       "      <th>Prison_Offense</th>\n",
       "      <th>Prison_Years</th>\n",
       "      <th>Prior_Arrest_Episodes_Felony</th>\n",
       "      <th>Prior_Arrest_Episodes_Misd</th>\n",
       "      <th>Prior_Arrest_Episodes_Violent</th>\n",
       "      <th>Prior_Arrest_Episodes_Property</th>\n",
       "      <th>Prior_Arrest_Episodes_Drug</th>\n",
       "      <th>Prior_Arrest_Episodes_PPViolationCharges</th>\n",
       "      <th>Prior_Arrest_Episodes_DVCharges</th>\n",
       "      <th>Prior_Arrest_Episodes_GunCharges</th>\n",
       "      <th>Prior_Conviction_Episodes_Felony</th>\n",
       "      <th>Prior_Conviction_Episodes_Misd</th>\n",
       "      <th>Prior_Conviction_Episodes_Viol</th>\n",
       "      <th>Prior_Conviction_Episodes_Prop</th>\n",
       "      <th>Prior_Conviction_Episodes_Drug</th>\n",
       "      <th>Prior_Conviction_Episodes_PPViolationCharges</th>\n",
       "      <th>Prior_Conviction_Episodes_DomesticViolenceCharges</th>\n",
       "      <th>Prior_Conviction_Episodes_GunCharges</th>\n",
       "      <th>Prior_Revocations_Parole</th>\n",
       "      <th>Prior_Revocations_Probation</th>\n",
       "      <th>Condition_MH_SA</th>\n",
       "      <th>Condition_Cog_Ed</th>\n",
       "      <th>Condition_Other</th>\n",
       "      <th>Violations_ElectronicMonitoring</th>\n",
       "      <th>Violations_Instruction</th>\n",
       "      <th>Violations_FailToReport</th>\n",
       "      <th>Violations_MoveWithoutPermission</th>\n",
       "      <th>Delinquency_Reports</th>\n",
       "      <th>Program_Attendances</th>\n",
       "      <th>Program_UnexcusedAbsences</th>\n",
       "      <th>Residence_Changes</th>\n",
       "      <th>Avg_Days_per_DrugTest</th>\n",
       "      <th>DrugTests_THC_Positive</th>\n",
       "      <th>DrugTests_Cocaine_Positive</th>\n",
       "      <th>DrugTests_Meth_Positive</th>\n",
       "      <th>DrugTests_Other_Positive</th>\n",
       "      <th>Percent_Days_Employed</th>\n",
       "      <th>Jobs_Per_Year</th>\n",
       "      <th>Employment_Exempt</th>\n",
       "      <th>Recidivism_Within_3years</th>\n",
       "      <th>Recidivism_Arrest_Year1</th>\n",
       "      <th>Recidivism_Arrest_Year2</th>\n",
       "      <th>Recidivism_Arrest_Year3</th>\n",
       "    </tr>\n",
       "    <tr>\n",
       "      <th>ID</th>\n",
       "      <th></th>\n",
       "      <th></th>\n",
       "      <th></th>\n",
       "      <th></th>\n",
       "      <th></th>\n",
       "      <th></th>\n",
       "      <th></th>\n",
       "      <th></th>\n",
       "      <th></th>\n",
       "      <th></th>\n",
       "      <th></th>\n",
       "      <th></th>\n",
       "      <th></th>\n",
       "      <th></th>\n",
       "      <th></th>\n",
       "      <th></th>\n",
       "      <th></th>\n",
       "      <th></th>\n",
       "      <th></th>\n",
       "      <th></th>\n",
       "      <th></th>\n",
       "      <th></th>\n",
       "      <th></th>\n",
       "      <th></th>\n",
       "      <th></th>\n",
       "      <th></th>\n",
       "      <th></th>\n",
       "      <th></th>\n",
       "      <th></th>\n",
       "      <th></th>\n",
       "      <th></th>\n",
       "      <th></th>\n",
       "      <th></th>\n",
       "      <th></th>\n",
       "      <th></th>\n",
       "      <th></th>\n",
       "      <th></th>\n",
       "      <th></th>\n",
       "      <th></th>\n",
       "      <th></th>\n",
       "      <th></th>\n",
       "      <th></th>\n",
       "      <th></th>\n",
       "      <th></th>\n",
       "      <th></th>\n",
       "      <th></th>\n",
       "      <th></th>\n",
       "      <th></th>\n",
       "      <th></th>\n",
       "      <th></th>\n",
       "      <th></th>\n",
       "      <th></th>\n",
       "    </tr>\n",
       "  </thead>\n",
       "  <tbody>\n",
       "    <tr>\n",
       "      <th>1</th>\n",
       "      <td>M</td>\n",
       "      <td>BLACK</td>\n",
       "      <td>43-47</td>\n",
       "      <td>16</td>\n",
       "      <td>False</td>\n",
       "      <td>3.0</td>\n",
       "      <td>Standard</td>\n",
       "      <td>At least some college</td>\n",
       "      <td>3 or more</td>\n",
       "      <td>Drug</td>\n",
       "      <td>More than 3 years</td>\n",
       "      <td>6</td>\n",
       "      <td>6 or more</td>\n",
       "      <td>1</td>\n",
       "      <td>3</td>\n",
       "      <td>3</td>\n",
       "      <td>4</td>\n",
       "      <td>False</td>\n",
       "      <td>False</td>\n",
       "      <td>3 or more</td>\n",
       "      <td>3</td>\n",
       "      <td>False</td>\n",
       "      <td>2</td>\n",
       "      <td>2 or more</td>\n",
       "      <td>False</td>\n",
       "      <td>False</td>\n",
       "      <td>False</td>\n",
       "      <td>False</td>\n",
       "      <td>False</td>\n",
       "      <td>True</td>\n",
       "      <td>True</td>\n",
       "      <td>False</td>\n",
       "      <td>False</td>\n",
       "      <td>False</td>\n",
       "      <td>False</td>\n",
       "      <td>False</td>\n",
       "      <td>0</td>\n",
       "      <td>6</td>\n",
       "      <td>0</td>\n",
       "      <td>2</td>\n",
       "      <td>612.000000</td>\n",
       "      <td>0.000000</td>\n",
       "      <td>0.0</td>\n",
       "      <td>0.000000</td>\n",
       "      <td>0.0</td>\n",
       "      <td>0.488562</td>\n",
       "      <td>0.447610</td>\n",
       "      <td>False</td>\n",
       "      <td>False</td>\n",
       "      <td>False</td>\n",
       "      <td>False</td>\n",
       "      <td>False</td>\n",
       "    </tr>\n",
       "    <tr>\n",
       "      <th>2</th>\n",
       "      <td>M</td>\n",
       "      <td>BLACK</td>\n",
       "      <td>33-37</td>\n",
       "      <td>16</td>\n",
       "      <td>False</td>\n",
       "      <td>6.0</td>\n",
       "      <td>Specialized</td>\n",
       "      <td>Less than HS diploma</td>\n",
       "      <td>1</td>\n",
       "      <td>Violent/Non-Sex</td>\n",
       "      <td>More than 3 years</td>\n",
       "      <td>7</td>\n",
       "      <td>6 or more</td>\n",
       "      <td>3 or more</td>\n",
       "      <td>0</td>\n",
       "      <td>3</td>\n",
       "      <td>5 or more</td>\n",
       "      <td>True</td>\n",
       "      <td>False</td>\n",
       "      <td>3 or more</td>\n",
       "      <td>4 or more</td>\n",
       "      <td>True</td>\n",
       "      <td>0</td>\n",
       "      <td>2 or more</td>\n",
       "      <td>True</td>\n",
       "      <td>True</td>\n",
       "      <td>True</td>\n",
       "      <td>False</td>\n",
       "      <td>False</td>\n",
       "      <td>False</td>\n",
       "      <td>False</td>\n",
       "      <td>False</td>\n",
       "      <td>False</td>\n",
       "      <td>True</td>\n",
       "      <td>False</td>\n",
       "      <td>False</td>\n",
       "      <td>4 or more</td>\n",
       "      <td>0</td>\n",
       "      <td>0</td>\n",
       "      <td>2</td>\n",
       "      <td>35.666667</td>\n",
       "      <td>0.000000</td>\n",
       "      <td>0.0</td>\n",
       "      <td>0.000000</td>\n",
       "      <td>0.0</td>\n",
       "      <td>0.425234</td>\n",
       "      <td>2.000000</td>\n",
       "      <td>False</td>\n",
       "      <td>True</td>\n",
       "      <td>False</td>\n",
       "      <td>False</td>\n",
       "      <td>True</td>\n",
       "    </tr>\n",
       "    <tr>\n",
       "      <th>3</th>\n",
       "      <td>M</td>\n",
       "      <td>BLACK</td>\n",
       "      <td>48 or older</td>\n",
       "      <td>24</td>\n",
       "      <td>False</td>\n",
       "      <td>7.0</td>\n",
       "      <td>High</td>\n",
       "      <td>At least some college</td>\n",
       "      <td>3 or more</td>\n",
       "      <td>Drug</td>\n",
       "      <td>1-2 years</td>\n",
       "      <td>6</td>\n",
       "      <td>6 or more</td>\n",
       "      <td>3 or more</td>\n",
       "      <td>2</td>\n",
       "      <td>2</td>\n",
       "      <td>5 or more</td>\n",
       "      <td>True</td>\n",
       "      <td>False</td>\n",
       "      <td>3 or more</td>\n",
       "      <td>2</td>\n",
       "      <td>True</td>\n",
       "      <td>1</td>\n",
       "      <td>2 or more</td>\n",
       "      <td>False</td>\n",
       "      <td>True</td>\n",
       "      <td>False</td>\n",
       "      <td>False</td>\n",
       "      <td>False</td>\n",
       "      <td>True</td>\n",
       "      <td>True</td>\n",
       "      <td>False</td>\n",
       "      <td>False</td>\n",
       "      <td>True</td>\n",
       "      <td>False</td>\n",
       "      <td>True</td>\n",
       "      <td>4 or more</td>\n",
       "      <td>6</td>\n",
       "      <td>0</td>\n",
       "      <td>0</td>\n",
       "      <td>93.666667</td>\n",
       "      <td>0.333333</td>\n",
       "      <td>0.0</td>\n",
       "      <td>0.166667</td>\n",
       "      <td>0.0</td>\n",
       "      <td>0.000000</td>\n",
       "      <td>0.000000</td>\n",
       "      <td>False</td>\n",
       "      <td>True</td>\n",
       "      <td>False</td>\n",
       "      <td>True</td>\n",
       "      <td>False</td>\n",
       "    </tr>\n",
       "    <tr>\n",
       "      <th>4</th>\n",
       "      <td>M</td>\n",
       "      <td>WHITE</td>\n",
       "      <td>38-42</td>\n",
       "      <td>16</td>\n",
       "      <td>False</td>\n",
       "      <td>7.0</td>\n",
       "      <td>High</td>\n",
       "      <td>Less than HS diploma</td>\n",
       "      <td>1</td>\n",
       "      <td>Property</td>\n",
       "      <td>1-2 years</td>\n",
       "      <td>8</td>\n",
       "      <td>6 or more</td>\n",
       "      <td>0</td>\n",
       "      <td>3</td>\n",
       "      <td>3</td>\n",
       "      <td>3</td>\n",
       "      <td>False</td>\n",
       "      <td>False</td>\n",
       "      <td>3 or more</td>\n",
       "      <td>4 or more</td>\n",
       "      <td>False</td>\n",
       "      <td>3 or more</td>\n",
       "      <td>2 or more</td>\n",
       "      <td>False</td>\n",
       "      <td>False</td>\n",
       "      <td>False</td>\n",
       "      <td>False</td>\n",
       "      <td>True</td>\n",
       "      <td>True</td>\n",
       "      <td>True</td>\n",
       "      <td>False</td>\n",
       "      <td>False</td>\n",
       "      <td>False</td>\n",
       "      <td>False</td>\n",
       "      <td>False</td>\n",
       "      <td>0</td>\n",
       "      <td>6</td>\n",
       "      <td>0</td>\n",
       "      <td>3 or more</td>\n",
       "      <td>25.400000</td>\n",
       "      <td>0.000000</td>\n",
       "      <td>0.0</td>\n",
       "      <td>0.000000</td>\n",
       "      <td>0.0</td>\n",
       "      <td>1.000000</td>\n",
       "      <td>0.718996</td>\n",
       "      <td>False</td>\n",
       "      <td>False</td>\n",
       "      <td>False</td>\n",
       "      <td>False</td>\n",
       "      <td>False</td>\n",
       "    </tr>\n",
       "    <tr>\n",
       "      <th>5</th>\n",
       "      <td>M</td>\n",
       "      <td>WHITE</td>\n",
       "      <td>33-37</td>\n",
       "      <td>16</td>\n",
       "      <td>False</td>\n",
       "      <td>4.0</td>\n",
       "      <td>Specialized</td>\n",
       "      <td>Less than HS diploma</td>\n",
       "      <td>3 or more</td>\n",
       "      <td>Violent/Non-Sex</td>\n",
       "      <td>1-2 years</td>\n",
       "      <td>4</td>\n",
       "      <td>4</td>\n",
       "      <td>3 or more</td>\n",
       "      <td>2</td>\n",
       "      <td>1</td>\n",
       "      <td>3</td>\n",
       "      <td>True</td>\n",
       "      <td>False</td>\n",
       "      <td>1</td>\n",
       "      <td>0</td>\n",
       "      <td>True</td>\n",
       "      <td>0</td>\n",
       "      <td>1</td>\n",
       "      <td>False</td>\n",
       "      <td>False</td>\n",
       "      <td>False</td>\n",
       "      <td>False</td>\n",
       "      <td>False</td>\n",
       "      <td>True</td>\n",
       "      <td>True</td>\n",
       "      <td>True</td>\n",
       "      <td>False</td>\n",
       "      <td>False</td>\n",
       "      <td>False</td>\n",
       "      <td>False</td>\n",
       "      <td>0</td>\n",
       "      <td>7</td>\n",
       "      <td>0</td>\n",
       "      <td>0</td>\n",
       "      <td>23.117647</td>\n",
       "      <td>0.000000</td>\n",
       "      <td>0.0</td>\n",
       "      <td>0.058824</td>\n",
       "      <td>0.0</td>\n",
       "      <td>0.203562</td>\n",
       "      <td>0.929389</td>\n",
       "      <td>False</td>\n",
       "      <td>True</td>\n",
       "      <td>True</td>\n",
       "      <td>False</td>\n",
       "      <td>False</td>\n",
       "    </tr>\n",
       "  </tbody>\n",
       "</table>\n",
       "</div>"
      ],
      "text/plain": [
       "   Gender   Race Age_at_Release  Residence_PUMA Gang_Affiliated  \\\n",
       "ID                                                                \n",
       "1       M  BLACK          43-47              16           False   \n",
       "2       M  BLACK          33-37              16           False   \n",
       "3       M  BLACK    48 or older              24           False   \n",
       "4       M  WHITE          38-42              16           False   \n",
       "5       M  WHITE          33-37              16           False   \n",
       "\n",
       "    Supervision_Risk_Score_First Supervision_Level_First  \\\n",
       "ID                                                         \n",
       "1                            3.0                Standard   \n",
       "2                            6.0             Specialized   \n",
       "3                            7.0                    High   \n",
       "4                            7.0                    High   \n",
       "5                            4.0             Specialized   \n",
       "\n",
       "          Education_Level Dependents   Prison_Offense       Prison_Years  \\\n",
       "ID                                                                         \n",
       "1   At least some college  3 or more             Drug  More than 3 years   \n",
       "2    Less than HS diploma          1  Violent/Non-Sex  More than 3 years   \n",
       "3   At least some college  3 or more             Drug          1-2 years   \n",
       "4    Less than HS diploma          1         Property          1-2 years   \n",
       "5    Less than HS diploma  3 or more  Violent/Non-Sex          1-2 years   \n",
       "\n",
       "   Prior_Arrest_Episodes_Felony Prior_Arrest_Episodes_Misd  \\\n",
       "ID                                                           \n",
       "1                             6                  6 or more   \n",
       "2                             7                  6 or more   \n",
       "3                             6                  6 or more   \n",
       "4                             8                  6 or more   \n",
       "5                             4                          4   \n",
       "\n",
       "   Prior_Arrest_Episodes_Violent Prior_Arrest_Episodes_Property  \\\n",
       "ID                                                                \n",
       "1                              1                              3   \n",
       "2                      3 or more                              0   \n",
       "3                      3 or more                              2   \n",
       "4                              0                              3   \n",
       "5                      3 or more                              2   \n",
       "\n",
       "   Prior_Arrest_Episodes_Drug Prior_Arrest_Episodes_PPViolationCharges  \\\n",
       "ID                                                                       \n",
       "1                           3                                        4   \n",
       "2                           3                                5 or more   \n",
       "3                           2                                5 or more   \n",
       "4                           3                                        3   \n",
       "5                           1                                        3   \n",
       "\n",
       "    Prior_Arrest_Episodes_DVCharges  Prior_Arrest_Episodes_GunCharges  \\\n",
       "ID                                                                      \n",
       "1                             False                             False   \n",
       "2                              True                             False   \n",
       "3                              True                             False   \n",
       "4                             False                             False   \n",
       "5                              True                             False   \n",
       "\n",
       "   Prior_Conviction_Episodes_Felony Prior_Conviction_Episodes_Misd  \\\n",
       "ID                                                                   \n",
       "1                         3 or more                              3   \n",
       "2                         3 or more                      4 or more   \n",
       "3                         3 or more                              2   \n",
       "4                         3 or more                      4 or more   \n",
       "5                                 1                              0   \n",
       "\n",
       "    Prior_Conviction_Episodes_Viol Prior_Conviction_Episodes_Prop  \\\n",
       "ID                                                                  \n",
       "1                            False                              2   \n",
       "2                             True                              0   \n",
       "3                             True                              1   \n",
       "4                            False                      3 or more   \n",
       "5                             True                              0   \n",
       "\n",
       "   Prior_Conviction_Episodes_Drug  \\\n",
       "ID                                  \n",
       "1                       2 or more   \n",
       "2                       2 or more   \n",
       "3                       2 or more   \n",
       "4                       2 or more   \n",
       "5                               1   \n",
       "\n",
       "    Prior_Conviction_Episodes_PPViolationCharges  \\\n",
       "ID                                                 \n",
       "1                                          False   \n",
       "2                                           True   \n",
       "3                                          False   \n",
       "4                                          False   \n",
       "5                                          False   \n",
       "\n",
       "    Prior_Conviction_Episodes_DomesticViolenceCharges  \\\n",
       "ID                                                      \n",
       "1                                               False   \n",
       "2                                                True   \n",
       "3                                                True   \n",
       "4                                               False   \n",
       "5                                               False   \n",
       "\n",
       "    Prior_Conviction_Episodes_GunCharges  Prior_Revocations_Parole  \\\n",
       "ID                                                                   \n",
       "1                                  False                     False   \n",
       "2                                   True                     False   \n",
       "3                                  False                     False   \n",
       "4                                  False                     False   \n",
       "5                                  False                     False   \n",
       "\n",
       "    Prior_Revocations_Probation  Condition_MH_SA  Condition_Cog_Ed  \\\n",
       "ID                                                                   \n",
       "1                         False             True              True   \n",
       "2                         False            False             False   \n",
       "3                         False             True              True   \n",
       "4                          True             True              True   \n",
       "5                         False             True              True   \n",
       "\n",
       "    Condition_Other  Violations_ElectronicMonitoring  Violations_Instruction  \\\n",
       "ID                                                                             \n",
       "1             False                            False                   False   \n",
       "2             False                            False                    True   \n",
       "3             False                            False                    True   \n",
       "4             False                            False                   False   \n",
       "5              True                            False                   False   \n",
       "\n",
       "    Violations_FailToReport  Violations_MoveWithoutPermission  \\\n",
       "ID                                                              \n",
       "1                     False                             False   \n",
       "2                     False                             False   \n",
       "3                     False                              True   \n",
       "4                     False                             False   \n",
       "5                     False                             False   \n",
       "\n",
       "   Delinquency_Reports Program_Attendances Program_UnexcusedAbsences  \\\n",
       "ID                                                                     \n",
       "1                    0                   6                         0   \n",
       "2            4 or more                   0                         0   \n",
       "3            4 or more                   6                         0   \n",
       "4                    0                   6                         0   \n",
       "5                    0                   7                         0   \n",
       "\n",
       "   Residence_Changes  Avg_Days_per_DrugTest  DrugTests_THC_Positive  \\\n",
       "ID                                                                    \n",
       "1                  2             612.000000                0.000000   \n",
       "2                  2              35.666667                0.000000   \n",
       "3                  0              93.666667                0.333333   \n",
       "4          3 or more              25.400000                0.000000   \n",
       "5                  0              23.117647                0.000000   \n",
       "\n",
       "    DrugTests_Cocaine_Positive  DrugTests_Meth_Positive  \\\n",
       "ID                                                        \n",
       "1                          0.0                 0.000000   \n",
       "2                          0.0                 0.000000   \n",
       "3                          0.0                 0.166667   \n",
       "4                          0.0                 0.000000   \n",
       "5                          0.0                 0.058824   \n",
       "\n",
       "    DrugTests_Other_Positive  Percent_Days_Employed  Jobs_Per_Year  \\\n",
       "ID                                                                   \n",
       "1                        0.0               0.488562       0.447610   \n",
       "2                        0.0               0.425234       2.000000   \n",
       "3                        0.0               0.000000       0.000000   \n",
       "4                        0.0               1.000000       0.718996   \n",
       "5                        0.0               0.203562       0.929389   \n",
       "\n",
       "    Employment_Exempt  Recidivism_Within_3years  Recidivism_Arrest_Year1  \\\n",
       "ID                                                                         \n",
       "1               False                     False                    False   \n",
       "2               False                      True                    False   \n",
       "3               False                      True                    False   \n",
       "4               False                     False                    False   \n",
       "5               False                      True                     True   \n",
       "\n",
       "    Recidivism_Arrest_Year2  Recidivism_Arrest_Year3  \n",
       "ID                                                    \n",
       "1                     False                    False  \n",
       "2                     False                     True  \n",
       "3                      True                    False  \n",
       "4                     False                    False  \n",
       "5                     False                    False  "
      ]
     },
     "execution_count": 8,
     "metadata": {},
     "output_type": "execute_result"
    }
   ],
   "source": [
    "train = pd.read_csv('NIJ_s_Recidivism_Challenge_Training_Dataset.csv', index_col = 'ID')\n",
    "train.head()"
   ]
  },
  {
   "cell_type": "code",
   "execution_count": 9,
   "metadata": {},
   "outputs": [
    {
     "data": {
      "text/html": [
       "<div>\n",
       "<style scoped>\n",
       "    .dataframe tbody tr th:only-of-type {\n",
       "        vertical-align: middle;\n",
       "    }\n",
       "\n",
       "    .dataframe tbody tr th {\n",
       "        vertical-align: top;\n",
       "    }\n",
       "\n",
       "    .dataframe thead th {\n",
       "        text-align: right;\n",
       "    }\n",
       "</style>\n",
       "<table border=\"1\" class=\"dataframe\">\n",
       "  <thead>\n",
       "    <tr style=\"text-align: right;\">\n",
       "      <th></th>\n",
       "      <th>Gender</th>\n",
       "      <th>Race</th>\n",
       "      <th>Age_at_Release</th>\n",
       "      <th>Residence_PUMA</th>\n",
       "      <th>Gang_Affiliated</th>\n",
       "      <th>Supervision_Risk_Score_First</th>\n",
       "      <th>Supervision_Level_First</th>\n",
       "      <th>Education_Level</th>\n",
       "      <th>Dependents</th>\n",
       "      <th>Prison_Offense</th>\n",
       "      <th>Prison_Years</th>\n",
       "      <th>Prior_Arrest_Episodes_Felony</th>\n",
       "      <th>Prior_Arrest_Episodes_Misd</th>\n",
       "      <th>Prior_Arrest_Episodes_Violent</th>\n",
       "      <th>Prior_Arrest_Episodes_Property</th>\n",
       "      <th>Prior_Arrest_Episodes_Drug</th>\n",
       "      <th>Prior_Arrest_Episodes_PPViolationCharges</th>\n",
       "      <th>Prior_Arrest_Episodes_DVCharges</th>\n",
       "      <th>Prior_Arrest_Episodes_GunCharges</th>\n",
       "      <th>Prior_Conviction_Episodes_Felony</th>\n",
       "      <th>Prior_Conviction_Episodes_Misd</th>\n",
       "      <th>Prior_Conviction_Episodes_Viol</th>\n",
       "      <th>Prior_Conviction_Episodes_Prop</th>\n",
       "      <th>Prior_Conviction_Episodes_Drug</th>\n",
       "      <th>Prior_Conviction_Episodes_PPViolationCharges</th>\n",
       "      <th>Prior_Conviction_Episodes_DomesticViolenceCharges</th>\n",
       "      <th>Prior_Conviction_Episodes_GunCharges</th>\n",
       "      <th>Prior_Revocations_Parole</th>\n",
       "      <th>Prior_Revocations_Probation</th>\n",
       "      <th>Condition_MH_SA</th>\n",
       "      <th>Condition_Cog_Ed</th>\n",
       "      <th>Condition_Other</th>\n",
       "    </tr>\n",
       "    <tr>\n",
       "      <th>ID</th>\n",
       "      <th></th>\n",
       "      <th></th>\n",
       "      <th></th>\n",
       "      <th></th>\n",
       "      <th></th>\n",
       "      <th></th>\n",
       "      <th></th>\n",
       "      <th></th>\n",
       "      <th></th>\n",
       "      <th></th>\n",
       "      <th></th>\n",
       "      <th></th>\n",
       "      <th></th>\n",
       "      <th></th>\n",
       "      <th></th>\n",
       "      <th></th>\n",
       "      <th></th>\n",
       "      <th></th>\n",
       "      <th></th>\n",
       "      <th></th>\n",
       "      <th></th>\n",
       "      <th></th>\n",
       "      <th></th>\n",
       "      <th></th>\n",
       "      <th></th>\n",
       "      <th></th>\n",
       "      <th></th>\n",
       "      <th></th>\n",
       "      <th></th>\n",
       "      <th></th>\n",
       "      <th></th>\n",
       "      <th></th>\n",
       "    </tr>\n",
       "  </thead>\n",
       "  <tbody>\n",
       "    <tr>\n",
       "      <th>6</th>\n",
       "      <td>M</td>\n",
       "      <td>WHITE</td>\n",
       "      <td>38-42</td>\n",
       "      <td>17</td>\n",
       "      <td>False</td>\n",
       "      <td>5.0</td>\n",
       "      <td>Standard</td>\n",
       "      <td>High School Diploma</td>\n",
       "      <td>0</td>\n",
       "      <td>Property</td>\n",
       "      <td>More than 3 years</td>\n",
       "      <td>4</td>\n",
       "      <td>0</td>\n",
       "      <td>1</td>\n",
       "      <td>3</td>\n",
       "      <td>0</td>\n",
       "      <td>0</td>\n",
       "      <td>False</td>\n",
       "      <td>False</td>\n",
       "      <td>1</td>\n",
       "      <td>0</td>\n",
       "      <td>False</td>\n",
       "      <td>2</td>\n",
       "      <td>0</td>\n",
       "      <td>False</td>\n",
       "      <td>False</td>\n",
       "      <td>False</td>\n",
       "      <td>False</td>\n",
       "      <td>False</td>\n",
       "      <td>False</td>\n",
       "      <td>False</td>\n",
       "      <td>True</td>\n",
       "    </tr>\n",
       "    <tr>\n",
       "      <th>8</th>\n",
       "      <td>M</td>\n",
       "      <td>BLACK</td>\n",
       "      <td>38-42</td>\n",
       "      <td>16</td>\n",
       "      <td>False</td>\n",
       "      <td>5.0</td>\n",
       "      <td>High</td>\n",
       "      <td>High School Diploma</td>\n",
       "      <td>3 or more</td>\n",
       "      <td>Drug</td>\n",
       "      <td>Greater than 2 to 3 years</td>\n",
       "      <td>6</td>\n",
       "      <td>6 or more</td>\n",
       "      <td>3 or more</td>\n",
       "      <td>1</td>\n",
       "      <td>2</td>\n",
       "      <td>5 or more</td>\n",
       "      <td>False</td>\n",
       "      <td>False</td>\n",
       "      <td>1</td>\n",
       "      <td>4 or more</td>\n",
       "      <td>True</td>\n",
       "      <td>0</td>\n",
       "      <td>2 or more</td>\n",
       "      <td>True</td>\n",
       "      <td>False</td>\n",
       "      <td>False</td>\n",
       "      <td>False</td>\n",
       "      <td>False</td>\n",
       "      <td>False</td>\n",
       "      <td>True</td>\n",
       "      <td>False</td>\n",
       "    </tr>\n",
       "    <tr>\n",
       "      <th>12</th>\n",
       "      <td>M</td>\n",
       "      <td>BLACK</td>\n",
       "      <td>33-37</td>\n",
       "      <td>16</td>\n",
       "      <td>False</td>\n",
       "      <td>5.0</td>\n",
       "      <td>Specialized</td>\n",
       "      <td>High School Diploma</td>\n",
       "      <td>3 or more</td>\n",
       "      <td>Other</td>\n",
       "      <td>1-2 years</td>\n",
       "      <td>10 or more</td>\n",
       "      <td>1</td>\n",
       "      <td>1</td>\n",
       "      <td>1</td>\n",
       "      <td>2</td>\n",
       "      <td>3</td>\n",
       "      <td>False</td>\n",
       "      <td>False</td>\n",
       "      <td>3 or more</td>\n",
       "      <td>1</td>\n",
       "      <td>False</td>\n",
       "      <td>0</td>\n",
       "      <td>2 or more</td>\n",
       "      <td>False</td>\n",
       "      <td>False</td>\n",
       "      <td>False</td>\n",
       "      <td>False</td>\n",
       "      <td>True</td>\n",
       "      <td>True</td>\n",
       "      <td>True</td>\n",
       "      <td>True</td>\n",
       "    </tr>\n",
       "    <tr>\n",
       "      <th>15</th>\n",
       "      <td>M</td>\n",
       "      <td>WHITE</td>\n",
       "      <td>33-37</td>\n",
       "      <td>5</td>\n",
       "      <td>False</td>\n",
       "      <td>7.0</td>\n",
       "      <td>Standard</td>\n",
       "      <td>Less than HS diploma</td>\n",
       "      <td>1</td>\n",
       "      <td>Violent/Non-Sex</td>\n",
       "      <td>Greater than 2 to 3 years</td>\n",
       "      <td>9</td>\n",
       "      <td>3</td>\n",
       "      <td>2</td>\n",
       "      <td>2</td>\n",
       "      <td>4</td>\n",
       "      <td>4</td>\n",
       "      <td>False</td>\n",
       "      <td>True</td>\n",
       "      <td>3 or more</td>\n",
       "      <td>2</td>\n",
       "      <td>True</td>\n",
       "      <td>1</td>\n",
       "      <td>1</td>\n",
       "      <td>True</td>\n",
       "      <td>False</td>\n",
       "      <td>False</td>\n",
       "      <td>False</td>\n",
       "      <td>False</td>\n",
       "      <td>True</td>\n",
       "      <td>True</td>\n",
       "      <td>True</td>\n",
       "    </tr>\n",
       "    <tr>\n",
       "      <th>16</th>\n",
       "      <td>M</td>\n",
       "      <td>BLACK</td>\n",
       "      <td>33-37</td>\n",
       "      <td>3</td>\n",
       "      <td>False</td>\n",
       "      <td>4.0</td>\n",
       "      <td>Standard</td>\n",
       "      <td>Less than HS diploma</td>\n",
       "      <td>3 or more</td>\n",
       "      <td>NaN</td>\n",
       "      <td>More than 3 years</td>\n",
       "      <td>4</td>\n",
       "      <td>6 or more</td>\n",
       "      <td>0</td>\n",
       "      <td>0</td>\n",
       "      <td>3</td>\n",
       "      <td>4</td>\n",
       "      <td>False</td>\n",
       "      <td>True</td>\n",
       "      <td>2</td>\n",
       "      <td>4 or more</td>\n",
       "      <td>False</td>\n",
       "      <td>0</td>\n",
       "      <td>2 or more</td>\n",
       "      <td>True</td>\n",
       "      <td>False</td>\n",
       "      <td>False</td>\n",
       "      <td>False</td>\n",
       "      <td>False</td>\n",
       "      <td>True</td>\n",
       "      <td>True</td>\n",
       "      <td>False</td>\n",
       "    </tr>\n",
       "  </tbody>\n",
       "</table>\n",
       "</div>"
      ],
      "text/plain": [
       "   Gender   Race Age_at_Release  Residence_PUMA Gang_Affiliated  \\\n",
       "ID                                                                \n",
       "6       M  WHITE          38-42              17           False   \n",
       "8       M  BLACK          38-42              16           False   \n",
       "12      M  BLACK          33-37              16           False   \n",
       "15      M  WHITE          33-37               5           False   \n",
       "16      M  BLACK          33-37               3           False   \n",
       "\n",
       "    Supervision_Risk_Score_First Supervision_Level_First  \\\n",
       "ID                                                         \n",
       "6                            5.0                Standard   \n",
       "8                            5.0                    High   \n",
       "12                           5.0             Specialized   \n",
       "15                           7.0                Standard   \n",
       "16                           4.0                Standard   \n",
       "\n",
       "         Education_Level Dependents   Prison_Offense  \\\n",
       "ID                                                     \n",
       "6    High School Diploma          0         Property   \n",
       "8    High School Diploma  3 or more             Drug   \n",
       "12   High School Diploma  3 or more            Other   \n",
       "15  Less than HS diploma          1  Violent/Non-Sex   \n",
       "16  Less than HS diploma  3 or more              NaN   \n",
       "\n",
       "                 Prison_Years Prior_Arrest_Episodes_Felony  \\\n",
       "ID                                                           \n",
       "6           More than 3 years                            4   \n",
       "8   Greater than 2 to 3 years                            6   \n",
       "12                  1-2 years                   10 or more   \n",
       "15  Greater than 2 to 3 years                            9   \n",
       "16          More than 3 years                            4   \n",
       "\n",
       "   Prior_Arrest_Episodes_Misd Prior_Arrest_Episodes_Violent  \\\n",
       "ID                                                            \n",
       "6                           0                             1   \n",
       "8                   6 or more                     3 or more   \n",
       "12                          1                             1   \n",
       "15                          3                             2   \n",
       "16                  6 or more                             0   \n",
       "\n",
       "   Prior_Arrest_Episodes_Property Prior_Arrest_Episodes_Drug  \\\n",
       "ID                                                             \n",
       "6                               3                          0   \n",
       "8                               1                          2   \n",
       "12                              1                          2   \n",
       "15                              2                          4   \n",
       "16                              0                          3   \n",
       "\n",
       "   Prior_Arrest_Episodes_PPViolationCharges  Prior_Arrest_Episodes_DVCharges  \\\n",
       "ID                                                                             \n",
       "6                                         0                            False   \n",
       "8                                 5 or more                            False   \n",
       "12                                        3                            False   \n",
       "15                                        4                            False   \n",
       "16                                        4                            False   \n",
       "\n",
       "    Prior_Arrest_Episodes_GunCharges Prior_Conviction_Episodes_Felony  \\\n",
       "ID                                                                      \n",
       "6                              False                                1   \n",
       "8                              False                                1   \n",
       "12                             False                        3 or more   \n",
       "15                              True                        3 or more   \n",
       "16                              True                                2   \n",
       "\n",
       "   Prior_Conviction_Episodes_Misd  Prior_Conviction_Episodes_Viol  \\\n",
       "ID                                                                  \n",
       "6                               0                           False   \n",
       "8                       4 or more                            True   \n",
       "12                              1                           False   \n",
       "15                              2                            True   \n",
       "16                      4 or more                           False   \n",
       "\n",
       "   Prior_Conviction_Episodes_Prop Prior_Conviction_Episodes_Drug  \\\n",
       "ID                                                                 \n",
       "6                               2                              0   \n",
       "8                               0                      2 or more   \n",
       "12                              0                      2 or more   \n",
       "15                              1                              1   \n",
       "16                              0                      2 or more   \n",
       "\n",
       "    Prior_Conviction_Episodes_PPViolationCharges  \\\n",
       "ID                                                 \n",
       "6                                          False   \n",
       "8                                           True   \n",
       "12                                         False   \n",
       "15                                          True   \n",
       "16                                          True   \n",
       "\n",
       "    Prior_Conviction_Episodes_DomesticViolenceCharges  \\\n",
       "ID                                                      \n",
       "6                                               False   \n",
       "8                                               False   \n",
       "12                                              False   \n",
       "15                                              False   \n",
       "16                                              False   \n",
       "\n",
       "    Prior_Conviction_Episodes_GunCharges  Prior_Revocations_Parole  \\\n",
       "ID                                                                   \n",
       "6                                  False                     False   \n",
       "8                                  False                     False   \n",
       "12                                 False                     False   \n",
       "15                                 False                     False   \n",
       "16                                 False                     False   \n",
       "\n",
       "    Prior_Revocations_Probation  Condition_MH_SA  Condition_Cog_Ed  \\\n",
       "ID                                                                   \n",
       "6                         False            False             False   \n",
       "8                         False            False              True   \n",
       "12                         True             True              True   \n",
       "15                        False             True              True   \n",
       "16                        False             True              True   \n",
       "\n",
       "    Condition_Other  \n",
       "ID                   \n",
       "6              True  \n",
       "8             False  \n",
       "12             True  \n",
       "15             True  \n",
       "16            False  "
      ]
     },
     "execution_count": 9,
     "metadata": {},
     "output_type": "execute_result"
    }
   ],
   "source": [
    "test = pd.read_csv('NIJ_s_Recidivism_Challenge_Test_Dataset1.csv', index_col = 'ID')\n",
    "test.head()"
   ]
  },
  {
   "cell_type": "code",
   "execution_count": 10,
   "metadata": {},
   "outputs": [
    {
     "data": {
      "text/plain": [
       "(7807, 32)"
      ]
     },
     "execution_count": 10,
     "metadata": {},
     "output_type": "execute_result"
    }
   ],
   "source": [
    "test.shape"
   ]
  },
  {
   "cell_type": "code",
   "execution_count": 11,
   "metadata": {},
   "outputs": [],
   "source": [
    "x = pd.concat((train[test.columns], test)).sort_index()"
   ]
  },
  {
   "cell_type": "code",
   "execution_count": null,
   "metadata": {},
   "outputs": [],
   "source": []
  },
  {
   "cell_type": "code",
   "execution_count": null,
   "metadata": {},
   "outputs": [],
   "source": []
  },
  {
   "cell_type": "code",
   "execution_count": null,
   "metadata": {},
   "outputs": [],
   "source": []
  },
  {
   "cell_type": "code",
   "execution_count": 12,
   "metadata": {},
   "outputs": [],
   "source": [
    "from sklearn.model_selection import RandomizedSearchCV\n",
    "from sklearn.model_selection import StratifiedKFold, KFold, ShuffleSplit\n",
    "from sklearn.metrics import brier_score_loss, mean_squared_error, log_loss, make_scorer"
   ]
  },
  {
   "cell_type": "code",
   "execution_count": 13,
   "metadata": {},
   "outputs": [],
   "source": [
    "from sklearn.ensemble import ExtraTreesRegressor, ExtraTreesClassifier\n",
    "from sklearn.ensemble import RandomForestRegressor, RandomForestClassifier\n",
    "from sklearn.linear_model import Ridge, ElasticNet, LogisticRegression, RidgeClassifier, MultiTaskElasticNet\n",
    "from sklearn.svm import SVR, SVC, LinearSVR, LinearSVC, NuSVC, NuSVR\n",
    "from sklearn.preprocessing import OneHotEncoder, LabelEncoder"
   ]
  },
  {
   "cell_type": "code",
   "execution_count": 14,
   "metadata": {},
   "outputs": [],
   "source": [
    "from sklearn.preprocessing import StandardScaler, FunctionTransformer, MinMaxScaler\n"
   ]
  },
  {
   "cell_type": "code",
   "execution_count": 15,
   "metadata": {},
   "outputs": [],
   "source": [
    "import lightgbm as lgb"
   ]
  },
  {
   "cell_type": "code",
   "execution_count": null,
   "metadata": {},
   "outputs": [],
   "source": []
  },
  {
   "cell_type": "code",
   "execution_count": 16,
   "metadata": {},
   "outputs": [],
   "source": [
    "y = train['Recidivism_Arrest_Year1']\n",
    "\n",
    "ys = train[['Recidivism_Within_3years', 'Recidivism_Arrest_Year2', \t'Recidivism_Arrest_Year3',\n",
    "                   'Recidivism_Arrest_Year1']]\n",
    "\n",
    "extra = train[set(train.columns) - set(test.columns) - set(ys.columns)]\n"
   ]
  },
  {
   "cell_type": "code",
   "execution_count": null,
   "metadata": {},
   "outputs": [],
   "source": []
  },
  {
   "cell_type": "markdown",
   "metadata": {},
   "source": [
    "### Stack!"
   ]
  },
  {
   "cell_type": "code",
   "execution_count": 17,
   "metadata": {},
   "outputs": [],
   "source": [
    "model_names = []\n",
    "all_preds = []\n",
    "all_test_preds = []"
   ]
  },
  {
   "cell_type": "code",
   "execution_count": null,
   "metadata": {},
   "outputs": [],
   "source": []
  },
  {
   "cell_type": "code",
   "execution_count": 18,
   "metadata": {},
   "outputs": [],
   "source": [
    "def boundedMSE(y_true, y_pred):\n",
    "    residual = ( y_pred * (1 - BOUND) + y_pred.clip(0, 1) * BOUND)  - y_true\n",
    "    return 2 * residual, 2 * np.ones(len(y_true))"
   ]
  },
  {
   "cell_type": "code",
   "execution_count": 19,
   "metadata": {},
   "outputs": [
    {
     "name": "stdout",
     "output_type": "stream",
     "text": [
      "M2_LGBR-MTL2-SansRecidivismYear1_5306*50_0.5515.pkl\n",
      "M2_LGBR-MTL2-SansRecidivismYear1_wOriginalFeatures_5306*50_0.5513.pkl\n",
      "Main1_LGBR_5306*20_0.1867.pkl\n",
      "CPU times: user 15.4 s, sys: 325 ms, total: 15.7 s\n",
      "Wall time: 4.19 s\n"
     ]
    }
   ],
   "source": [
    "%%time\n",
    "# file-based dictionary results\n",
    "for file in sorted([f for f in os.listdir('results/') if '.pkl' in f]):\n",
    "    model_set = pickle.load(open('results/' + file, 'rb'))\n",
    "    model_names.append(file)\n",
    "    print(file)\n",
    "    all_preds.append( model_set['y_preds'] )\n",
    "    if TEST: all_test_preds.append( model_set['test_preds'])"
   ]
  },
  {
   "cell_type": "code",
   "execution_count": 20,
   "metadata": {},
   "outputs": [
    {
     "name": "stdout",
     "output_type": "stream",
     "text": [
      "3\n"
     ]
    }
   ],
   "source": [
    "print(len(all_preds))"
   ]
  },
  {
   "cell_type": "code",
   "execution_count": null,
   "metadata": {},
   "outputs": [],
   "source": []
  },
  {
   "cell_type": "code",
   "execution_count": 21,
   "metadata": {},
   "outputs": [],
   "source": [
    "# %%time\n",
    "# # FFM directory based files\n",
    "# for p in sorted([p for p in os.listdir() if 'ffm' in p]):\n",
    "# # def loadDirectory(p):\n",
    "#     print(p)\n",
    "#     preds, tpreds = [], []\n",
    "#     for f in [f for f in os.listdir( p ) if 'oof' in f and f.endswith('.csv')]:\n",
    "#         preds.append(pd.read_csv(os.path.join(p, f), index_col = 'ID')['0'])\n",
    "#     for f in [f for f in os.listdir( p ) if 'test' in f and f.endswith('.csv')]:\n",
    "#         if TEST: tpreds.append(pd.read_csv(os.path.join(p, f), index_col = 'ID')['0'])\n",
    "\n",
    "# #     pd.read_csv(os.path.join/' + f, index_col = 'ID').columns\n",
    "# #     return p, preds, tpreds\n",
    "\n",
    "\n",
    "#     model_names.append(p)\n",
    "#     all_preds.append( preds )\n",
    "#     all_test_preds.append( tpreds )"
   ]
  },
  {
   "cell_type": "code",
   "execution_count": 22,
   "metadata": {},
   "outputs": [],
   "source": [
    "# model_names"
   ]
  },
  {
   "cell_type": "code",
   "execution_count": 23,
   "metadata": {},
   "outputs": [],
   "source": [
    "# pd.read_csv('out/tab9_fresh.csv')"
   ]
  },
  {
   "cell_type": "code",
   "execution_count": null,
   "metadata": {},
   "outputs": [],
   "source": []
  },
  {
   "cell_type": "code",
   "execution_count": 24,
   "metadata": {},
   "outputs": [
    {
     "name": "stdout",
     "output_type": "stream",
     "text": [
      "NN_xe_2layer_384ch_f5295*80_mean40_0.08.csv\n",
      "NN_xe_2layer_384ch_f5295*80_mean40_0.15.csv\n",
      "NN_xe_2layer_384ch_f5295*80_mean60_0.08.csv\n",
      "NN_xe_2layer_384ch_f5295*80_mean60_0.15.csv\n",
      "NN_xe_2layer_640ch_f5295*80_mean40_0.08.csv\n",
      "NN_xe_2layer_640ch_f5295*80_mean40_0.15.csv\n",
      "NN_xe_2layer_640ch_f5295*80_mean60_0.08.csv\n",
      "NN_xe_2layer_640ch_f5295*80_mean60_0.15.csv\n",
      "CPU times: user 1.76 s, sys: 416 ms, total: 2.18 s\n",
      "Wall time: 2.49 s\n"
     ]
    }
   ],
   "source": [
    "%%time\n",
    "for file in sorted([f for f in os.listdir('out/') if ('layer' in f )\n",
    "                        and 'stdev' not in f  \n",
    "                     and 'test' not in f\n",
    "                    and '_all' not in f\n",
    "#                     and '640ch' not in f\n",
    "#                     and '52912' not in f\n",
    "                   ]):\n",
    "    test_file = 'out/' + file.replace('.csv', '_test.csv')\n",
    "    if not os.path.exists(test_file):\n",
    "        print('no test preds for {}; skipping'.format(file)); continue;\n",
    "    else:\n",
    "        print(file)\n",
    "    preds = pd.read_csv('out/' + file, index_col = 0)\n",
    "    model_names.append(file)\n",
    "    all_preds.append( [preds.iloc[:, 0]])\n",
    "    if TEST: all_test_preds.append( pd.read_csv(test_file, index_col = 0) )"
   ]
  },
  {
   "cell_type": "code",
   "execution_count": null,
   "metadata": {},
   "outputs": [],
   "source": []
  },
  {
   "cell_type": "code",
   "execution_count": null,
   "metadata": {},
   "outputs": [],
   "source": []
  },
  {
   "cell_type": "code",
   "execution_count": 25,
   "metadata": {},
   "outputs": [],
   "source": [
    "# knn_df = pd.read_csv('knn.csv', index_col = 'ID')\n",
    "# for col in [c for c in knn_df.columns if 'any' not in c]:\n",
    "#     model_names.append(col)\n",
    "#     all_preds.append(knn_df[col].reindex(train.index))\n",
    "#     if TEST: all_test_preds.append(knn_df[col].reindex(test.index))\n"
   ]
  },
  {
   "cell_type": "code",
   "execution_count": null,
   "metadata": {},
   "outputs": [],
   "source": []
  },
  {
   "cell_type": "code",
   "execution_count": 26,
   "metadata": {},
   "outputs": [],
   "source": [
    "from sklearn.linear_model import LinearRegression\n"
   ]
  },
  {
   "cell_type": "code",
   "execution_count": 27,
   "metadata": {},
   "outputs": [],
   "source": [
    "if TEST: assert len(all_preds) == len(all_test_preds)"
   ]
  },
  {
   "cell_type": "code",
   "execution_count": 28,
   "metadata": {},
   "outputs": [
    {
     "data": {
      "text/plain": [
       "11"
      ]
     },
     "execution_count": 28,
     "metadata": {},
     "output_type": "execute_result"
    }
   ],
   "source": [
    "len(all_preds)"
   ]
  },
  {
   "cell_type": "code",
   "execution_count": 29,
   "metadata": {},
   "outputs": [],
   "source": [
    "ap = {}; atp = {}\n",
    "for idx, preds in enumerate(all_preds):\n",
    "    name = model_names[idx]\n",
    "    if isinstance(preds, list):\n",
    "        preds = pd.concat(preds)\n",
    "    ap[name] = preds.groupby(preds.index).mean()\n",
    "    \n",
    "    if TEST:\n",
    "        test_preds = all_test_preds[idx]\n",
    "        if isinstance(test_preds, list):\n",
    "            test_preds = pd.concat(test_preds)\n",
    "#         print(test_preds.shape)\n",
    "#         print(len(test_preds.shape))\n",
    "        if len( tps := test_preds.shape) > 1 and tps[1] == 1:\n",
    "            test_preds = test_preds.iloc[:, 0]\n",
    "        elif len(tps) == 1: pass;\n",
    "        else:\n",
    "            print('*** TEST PREDS DIM MISMATCH FOR {}'.format(name))\n",
    "        atp[name] = test_preds.groupby(test_preds.index).mean()\n",
    "            "
   ]
  },
  {
   "cell_type": "code",
   "execution_count": 30,
   "metadata": {},
   "outputs": [],
   "source": [
    "stack_df = pd.DataFrame(ap)"
   ]
  },
  {
   "cell_type": "code",
   "execution_count": 31,
   "metadata": {},
   "outputs": [],
   "source": [
    "stack_test_df = pd.DataFrame(atp)"
   ]
  },
  {
   "cell_type": "code",
   "execution_count": 32,
   "metadata": {},
   "outputs": [
    {
     "data": {
      "text/plain": [
       "(18028, 11)"
      ]
     },
     "execution_count": 32,
     "metadata": {},
     "output_type": "execute_result"
    }
   ],
   "source": [
    "stack_df.shape"
   ]
  },
  {
   "cell_type": "code",
   "execution_count": 33,
   "metadata": {},
   "outputs": [
    {
     "name": "stdout",
     "output_type": "stream",
     "text": [
      "(7807, 11)\n"
     ]
    }
   ],
   "source": [
    "if TEST: print(stack_test_df.shape)"
   ]
  },
  {
   "cell_type": "code",
   "execution_count": null,
   "metadata": {},
   "outputs": [],
   "source": []
  },
  {
   "cell_type": "code",
   "execution_count": 34,
   "metadata": {},
   "outputs": [],
   "source": [
    "stack_df = stack_df[sorted(stack_df.columns)]"
   ]
  },
  {
   "cell_type": "code",
   "execution_count": 35,
   "metadata": {},
   "outputs": [],
   "source": [
    "stack_test_df = stack_test_df[sorted(stack_test_df.columns)]"
   ]
  },
  {
   "cell_type": "code",
   "execution_count": null,
   "metadata": {},
   "outputs": [],
   "source": []
  },
  {
   "cell_type": "code",
   "execution_count": 36,
   "metadata": {},
   "outputs": [],
   "source": [
    "assert stack_df.isnull().sum().sort_values().sum() == 0"
   ]
  },
  {
   "cell_type": "code",
   "execution_count": 37,
   "metadata": {},
   "outputs": [],
   "source": [
    "stack_df = stack_df.dropna(axis = 1)"
   ]
  },
  {
   "cell_type": "code",
   "execution_count": 38,
   "metadata": {},
   "outputs": [
    {
     "data": {
      "text/plain": [
       "Index(['M2_LGBR-MTL2-SansRecidivismYear1_5306*50_0.5515.pkl', 'NN_xe_2layer_640ch_f5295*80_mean60_0.15.csv'], dtype='object')"
      ]
     },
     "execution_count": 38,
     "metadata": {},
     "output_type": "execute_result"
    }
   ],
   "source": [
    "stack_df.columns[::10]"
   ]
  },
  {
   "cell_type": "code",
   "execution_count": 39,
   "metadata": {},
   "outputs": [
    {
     "data": {
      "text/plain": [
       "<matplotlib.colorbar.Colorbar at 0x7fb99d4b2bb0>"
      ]
     },
     "execution_count": 39,
     "metadata": {},
     "output_type": "execute_result"
    },
    {
     "data": {
      "image/png": "[encoded data removed]",
      "text/plain": [
       "<Figure size 576x576 with 2 Axes>"
      ]
     },
     "metadata": {
      "needs_background": "light"
     },
     "output_type": "display_data"
    }
   ],
   "source": [
    "plt.matshow(np.corrcoef(stack_df.T))\n",
    "plt.colorbar()"
   ]
  },
  {
   "cell_type": "code",
   "execution_count": 40,
   "metadata": {},
   "outputs": [
    {
     "data": {
      "text/plain": [
       "<matplotlib.colorbar.Colorbar at 0x7fb99d348790>"
      ]
     },
     "execution_count": 40,
     "metadata": {},
     "output_type": "execute_result"
    },
    {
     "data": {
      "image/png": "[encoded data removed]",
      "text/plain": [
       "<Figure size 576x576 with 2 Axes>"
      ]
     },
     "metadata": {
      "needs_background": "light"
     },
     "output_type": "display_data"
    }
   ],
   "source": [
    "plt.matshow(np.corrcoef(stack_test_df.T))\n",
    "plt.colorbar()"
   ]
  },
  {
   "cell_type": "code",
   "execution_count": null,
   "metadata": {},
   "outputs": [],
   "source": []
  },
  {
   "cell_type": "code",
   "execution_count": 41,
   "metadata": {},
   "outputs": [
    {
     "data": {
      "text/plain": [
       "Index(['M2_LGBR-MTL2-SansRecidivismYear1_5306*50_0.5515.pkl', 'NN_xe_2layer_640ch_f5295*80_mean60_0.15.csv'], dtype='object')"
      ]
     },
     "execution_count": 41,
     "metadata": {},
     "output_type": "execute_result"
    }
   ],
   "source": [
    "stack_df.columns[::10]"
   ]
  },
  {
   "cell_type": "code",
   "execution_count": null,
   "metadata": {},
   "outputs": [],
   "source": []
  },
  {
   "cell_type": "code",
   "execution_count": 42,
   "metadata": {},
   "outputs": [],
   "source": [
    "from sklearn.linear_model import LinearRegression, RidgeCV, ElasticNetCV"
   ]
  },
  {
   "cell_type": "code",
   "execution_count": 43,
   "metadata": {},
   "outputs": [
    {
     "data": {
      "text/plain": [
       "['M2_LGBR-MTL2-SansRecidivismYear1_5306*50_0.5515.pkl',\n",
       " 'NN_xe_2layer_640ch_f5295*80_mean60_0.15.csv']"
      ]
     },
     "execution_count": 43,
     "metadata": {},
     "output_type": "execute_result"
    }
   ],
   "source": [
    "sorted(list(stack_df.columns))[::10]"
   ]
  },
  {
   "cell_type": "code",
   "execution_count": null,
   "metadata": {},
   "outputs": [],
   "source": []
  },
  {
   "cell_type": "code",
   "execution_count": null,
   "metadata": {},
   "outputs": [],
   "source": []
  },
  {
   "cell_type": "code",
   "execution_count": 44,
   "metadata": {},
   "outputs": [],
   "source": [
    "drop_models = []"
   ]
  },
  {
   "cell_type": "code",
   "execution_count": 45,
   "metadata": {},
   "outputs": [
    {
     "name": "stdout",
     "output_type": "stream",
     "text": [
      "[]\n"
     ]
    }
   ],
   "source": [
    "drop_cols =[c for c in stack_df.columns if any([z in c for z in drop_models])]\n",
    "print(drop_cols)"
   ]
  },
  {
   "cell_type": "code",
   "execution_count": 46,
   "metadata": {},
   "outputs": [],
   "source": [
    "enet_params = {\n",
    "    'alpha': [  3e-5, 1e-4, 3e-4, 1e-3, 3e-3, ],\n",
    "    'l1_ratio': [ 1e-3, 0.01, 0.02, 0.05, 0.1, 0.2, 0.3, 0.5,  ]    \n",
    "}"
   ]
  },
  {
   "cell_type": "code",
   "execution_count": 47,
   "metadata": {},
   "outputs": [],
   "source": [
    "feature_drop = 0.0"
   ]
  },
  {
   "cell_type": "code",
   "execution_count": 48,
   "metadata": {},
   "outputs": [
    {
     "name": "stdout",
     "output_type": "stream",
     "text": [
      "{'l1_ratio': 0.3, 'alpha': 0.0001}\n",
      "{'l1_ratio': 0.001, 'alpha': 0.0003}\n",
      "{'l1_ratio': 0.2, 'alpha': 3e-05}\n",
      "{'l1_ratio': 0.001, 'alpha': 0.0001}\n",
      "{'l1_ratio': 0.2, 'alpha': 3e-05}\n",
      "{'l1_ratio': 0.1, 'alpha': 0.0003}\n",
      "{'l1_ratio': 0.05, 'alpha': 0.0001}\n",
      "{'l1_ratio': 0.01, 'alpha': 0.001}\n",
      "{'l1_ratio': 0.01, 'alpha': 0.0001}\n",
      "{'l1_ratio': 0.05, 'alpha': 3e-05}\n",
      "{'l1_ratio': 0.2, 'alpha': 0.0003}\n",
      "CPU times: user 30.9 s, sys: 25.7 s, total: 56.6 s\n",
      "Wall time: 40.9 s\n"
     ]
    }
   ],
   "source": [
    "%%time\n",
    "all_y_preds = []; all_y_test_preds = []; coefs = []\n",
    "for r in range(30):\n",
    "    sfolds = StratifiedKFold(n_splits = random.randrange(5, 7), shuffle = True,\n",
    "                                random_state = datetime.datetime.now().microsecond )\\\n",
    "                                            .split(np.zeros(len(y)), y)\n",
    "    y_preds, y_test_preds = [], []\n",
    "    for fold in sfolds:\n",
    "        y_train = y.iloc[fold[0]]\n",
    "        y_holdout = y.iloc[fold[1]]\n",
    "        y_test = y.reindex(stack_test_df.index)\n",
    "        \n",
    "        clf = RandomizedSearchCV( ElasticNet(selection = 'cyclic', positive = True,  precompute = True,\n",
    "                                             tol = 3e-5, max_iter = 5000), \n",
    "                          enet_params, n_iter = 3, n_jobs = -1,\n",
    "                  cv = StratifiedKFold(n_splits = random.randrange(4, 7), \n",
    "                                              shuffle = True, \n",
    "                                    random_state = datetime.datetime.now().microsecond  ))\n",
    "        sdf = stack_df.drop(columns = drop_cols).copy()\n",
    "        stdf = stack_test_df.drop(columns = drop_cols).copy()\n",
    "        \n",
    "        for col in random.sample( list(sdf.columns), \n",
    "                            k = int(len(sdf.columns) * feature_drop * \n",
    "                                        random.random() ** 0.5 ) ):\n",
    "            sdf[col] = 0; stdf[col] = 0\n",
    "\n",
    "        clf.fit(sdf.reindex(y_train.index),  y_train)\n",
    "        if random.random() < 1/10: print(clf.best_params_)\n",
    "        coefs.append(clf.best_estimator_.coef_)\n",
    "        all_y_preds.append( \n",
    "            pd.Series( clf.predict(sdf.reindex(y_holdout.index)), index = y_holdout.index) )\n",
    "        all_y_test_preds.append( \n",
    "            pd.Series( clf.predict(stdf.reindex(y_test.index)), index = y_test.index) )\n",
    "        \n"
   ]
  },
  {
   "cell_type": "code",
   "execution_count": 49,
   "metadata": {},
   "outputs": [],
   "source": [
    "final_preds = (ayp := pd.concat(all_y_preds) \n",
    "                      ).groupby(ayp.index).mean().reindex(y.index) \n",
    "final_test_preds = (aytp := pd.concat(all_y_test_preds) \n",
    "                       ).groupby(aytp.index).mean().reindex(stack_test_df.index) \n"
   ]
  },
  {
   "cell_type": "code",
   "execution_count": 50,
   "metadata": {},
   "outputs": [
    {
     "data": {
      "text/plain": [
       "0.18592"
      ]
     },
     "execution_count": 50,
     "metadata": {},
     "output_type": "execute_result"
    }
   ],
   "source": [
    "round( mean_squared_error( y, final_preds), 5)"
   ]
  },
  {
   "cell_type": "code",
   "execution_count": 51,
   "metadata": {},
   "outputs": [],
   "source": [
    "# 0.18674 single-LGB\n",
    "# 0.18615 single-LGB and second-layer\n",
    "# 0.18596   + one NN\n",
    "# 0.18592    + another NN"
   ]
  },
  {
   "cell_type": "code",
   "execution_count": null,
   "metadata": {},
   "outputs": [],
   "source": []
  },
  {
   "cell_type": "code",
   "execution_count": 52,
   "metadata": {},
   "outputs": [
    {
     "data": {
      "text/plain": [
       "(18028,)"
      ]
     },
     "execution_count": 52,
     "metadata": {},
     "output_type": "execute_result"
    }
   ],
   "source": [
    "final_preds.shape"
   ]
  },
  {
   "cell_type": "code",
   "execution_count": 53,
   "metadata": {},
   "outputs": [
    {
     "data": {
      "text/plain": [
       "(7807,)"
      ]
     },
     "execution_count": 53,
     "metadata": {},
     "output_type": "execute_result"
    }
   ],
   "source": [
    "final_test_preds.shape"
   ]
  },
  {
   "cell_type": "code",
   "execution_count": 54,
   "metadata": {},
   "outputs": [
    {
     "name": "stdout",
     "output_type": "stream",
     "text": [
      "Means: 0.2983 0.2985\n",
      "Stdev: 0.1528 0.1515\n"
     ]
    }
   ],
   "source": [
    "print('Means: {:.4f} {:.4f}'.format( np.mean(final_preds), np.mean(final_test_preds) ) )\n",
    "print('Stdev: {:.4f} {:.4f}'.format( np.std(final_preds), np.std(final_test_preds) ) )"
   ]
  },
  {
   "cell_type": "code",
   "execution_count": 55,
   "metadata": {},
   "outputs": [
    {
     "data": {
      "text/plain": [
       "<matplotlib.axes._subplots.AxesSubplot at 0x7fb99d0546d0>"
      ]
     },
     "execution_count": 55,
     "metadata": {},
     "output_type": "execute_result"
    },
    {
     "data": {
      "image/png": "[encoded data removed]",
      "text/plain": [
       "<Figure size 720x576 with 1 Axes>"
      ]
     },
     "metadata": {
      "needs_background": "light"
     },
     "output_type": "display_data"
    }
   ],
   "source": [
    "final_preds.plot(kind = 'hist', bins = 50)\n",
    "final_test_preds.plot(kind = 'hist', bins = 50)"
   ]
  },
  {
   "cell_type": "code",
   "execution_count": 56,
   "metadata": {},
   "outputs": [],
   "source": [
    "final_test_preds.to_csv('PREDS.csv')"
   ]
  },
  {
   "cell_type": "code",
   "execution_count": 57,
   "metadata": {},
   "outputs": [
    {
     "data": {
      "text/plain": [
       "6        0.088677\n",
       "8        0.186642\n",
       "12       0.232930\n",
       "15       0.235104\n",
       "16       0.131527\n",
       "           ...   \n",
       "26746    0.091500\n",
       "26747    0.108744\n",
       "26749    0.161365\n",
       "26752    0.133650\n",
       "26755    0.113347\n",
       "Length: 7807, dtype: float64"
      ]
     },
     "execution_count": 57,
     "metadata": {},
     "output_type": "execute_result"
    }
   ],
   "source": [
    "final_test_preds"
   ]
  },
  {
   "cell_type": "code",
   "execution_count": 58,
   "metadata": {},
   "outputs": [],
   "source": [
    "tc = {}\n",
    "for col in stack_test_df.columns:\n",
    "    tc[col] = final_test_preds.corr(stack_test_df[col])"
   ]
  },
  {
   "cell_type": "code",
   "execution_count": 59,
   "metadata": {},
   "outputs": [
    {
     "name": "stdout",
     "output_type": "stream",
     "text": [
      "Model Correlations:\n"
     ]
    },
    {
     "data": {
      "text/plain": [
       "M2_LGBR-MTL2-SansRecidivismYear1_wOriginalFeatures_5306*50_0.5513.pkl    0.990278\n",
       "M2_LGBR-MTL2-SansRecidivismYear1_5306*50_0.5515.pkl                      0.986866\n",
       "NN_xe_2layer_640ch_f5295*80_mean40_0.08.csv                              0.985405\n",
       "NN_xe_2layer_640ch_f5295*80_mean40_0.15.csv                              0.985400\n",
       "NN_xe_2layer_384ch_f5295*80_mean60_0.08.csv                              0.985254\n",
       "NN_xe_2layer_384ch_f5295*80_mean40_0.15.csv                              0.985014\n",
       "NN_xe_2layer_384ch_f5295*80_mean40_0.08.csv                              0.984218\n",
       "NN_xe_2layer_384ch_f5295*80_mean60_0.15.csv                              0.984082\n",
       "Main1_LGBR_5306*20_0.1867.pkl                                            0.982911\n",
       "NN_xe_2layer_640ch_f5295*80_mean60_0.08.csv                              0.981234\n",
       "NN_xe_2layer_640ch_f5295*80_mean60_0.15.csv                              0.978256\n",
       "dtype: float64"
      ]
     },
     "execution_count": 59,
     "metadata": {},
     "output_type": "execute_result"
    }
   ],
   "source": [
    "print('Model Correlations:')\n",
    "pd.Series(tc).sort_values()[::-1]"
   ]
  },
  {
   "cell_type": "code",
   "execution_count": null,
   "metadata": {},
   "outputs": [],
   "source": []
  },
  {
   "cell_type": "code",
   "execution_count": 60,
   "metadata": {},
   "outputs": [
    {
     "name": "stdout",
     "output_type": "stream",
     "text": [
      "Model Weights:\n"
     ]
    },
    {
     "data": {
      "text/plain": [
       "M2_LGBR-MTL2-SansRecidivismYear1_5306*50_0.5515.pkl                      0.429\n",
       "NN_xe_2layer_640ch_f5295*80_mean60_0.15.csv                              0.258\n",
       "Main1_LGBR_5306*20_0.1867.pkl                                            0.134\n",
       "M2_LGBR-MTL2-SansRecidivismYear1_wOriginalFeatures_5306*50_0.5513.pkl    0.092\n",
       "NN_xe_2layer_640ch_f5295*80_mean60_0.08.csv                              0.090\n",
       "NN_xe_2layer_640ch_f5295*80_mean40_0.15.csv                              0.012\n",
       "NN_xe_2layer_384ch_f5295*80_mean60_0.15.csv                              0.008\n",
       "NN_xe_2layer_640ch_f5295*80_mean40_0.08.csv                              0.005\n",
       "NN_xe_2layer_384ch_f5295*80_mean60_0.08.csv                              0.003\n",
       "NN_xe_2layer_384ch_f5295*80_mean40_0.15.csv                              0.000\n",
       "NN_xe_2layer_384ch_f5295*80_mean40_0.08.csv                              0.000\n",
       "dtype: float64"
      ]
     },
     "execution_count": 60,
     "metadata": {},
     "output_type": "execute_result"
    }
   ],
   "source": [
    "print('Model Weights:')\n",
    "( wt_df := pd.Series(np.mean(coefs, axis = 0), sdf.columns)  ).sort_values()[::-1].round(3)[:50]"
   ]
  },
  {
   "cell_type": "code",
   "execution_count": null,
   "metadata": {},
   "outputs": [],
   "source": []
  }
 ],
 "metadata": {
  "kernelspec": {
   "display_name": "Python 3",
   "language": "python",
   "name": "python3"
  },
  "language_info": {
   "codemirror_mode": {
    "name": "ipython",
    "version": 3
   },
   "file_extension": ".py",
   "mimetype": "text/x-python",
   "name": "python",
   "nbconvert_exporter": "python",
   "pygments_lexer": "ipython3",
   "version": "3.8.3"
  }
 },
 "nbformat": 4,
 "nbformat_minor": 4
}
